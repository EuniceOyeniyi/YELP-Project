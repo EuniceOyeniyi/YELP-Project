{
 "cells": [
  {
   "cell_type": "code",
   "execution_count": 2,
   "metadata": {},
   "outputs": [],
   "source": [
    "import numpy as np\n",
    "import pandas as pd\n",
    "from datetime import timedelta, date\n",
    "import time\n",
    "import re\n",
    "import requests\n",
    "from bs4 import BeautifulSoup\n",
    "from selenium.webdriver.chrome.service import Service\n",
    "\n",
    "from selenium import webdriver\n",
    "# import webbrowser\n"
   ]
  },
  {
   "cell_type": "code",
   "execution_count": null,
   "metadata": {},
   "outputs": [],
   "source": [
    "##For the single page\n",
    "# url = requests.get('https://www.yelp.co.uk/search?cflt=burgers&find_loc=Berlin%2C+Germany')\n",
    "# print(url)\n",
    "# soup = BeautifulSoup(url.content, 'html.parser')"
   ]
  },
  {
   "cell_type": "code",
   "execution_count": 12,
   "metadata": {},
   "outputs": [
    {
     "name": "stdout",
     "output_type": "stream",
     "text": [
      "<Response [200]>\n",
      "<Response [200]>\n",
      "<Response [200]>\n",
      "<Response [200]>\n",
      "<Response [200]>\n",
      "<Response [200]>\n",
      "<Response [200]>\n",
      "<Response [200]>\n",
      "<Response [200]>\n",
      "<Response [200]>\n",
      "<Response [200]>\n",
      "<Response [200]>\n",
      "<Response [200]>\n",
      "<Response [200]>\n",
      "<Response [200]>\n",
      "<Response [200]>\n",
      "<Response [200]>\n",
      "<Response [200]>\n",
      "<Response [200]>\n",
      "<Response [200]>\n",
      "<Response [200]>\n",
      "<Response [200]>\n",
      "<Response [200]>\n",
      "<Response [200]>\n"
     ]
    }
   ],
   "source": [
    "num = []\n",
    "for i in range(0,240,10):\n",
    "    num.append(i)\n",
    "\n",
    "\n",
    "soups = [] \n",
    "for page_num in num:\n",
    "    url = requests.get(f'https://www.yelp.co.uk/search?find_desc=restaurants+&find_loc=Berlin%2C+Germany&start={page_num}')\n",
    "    print(url)\n",
    "    soups.append( BeautifulSoup(url.content, 'html.parser') )\n",
    "    time.sleep(30)\n"
   ]
  },
  {
   "cell_type": "code",
   "execution_count": 12,
   "metadata": {},
   "outputs": [],
   "source": [
    "##storing the soups to avoid scrapping again\n",
    "hotelsoupdata= pd.DataFrame({'soup':soups})\n",
    "hotelsoupdata.to_csv('hotelsoupdata.csv', index=False) "
   ]
  },
  {
   "cell_type": "code",
   "execution_count": 13,
   "metadata": {},
   "outputs": [],
   "source": [
    "resturant_names2 =[]\n",
    "ratings2 = []\n",
    "number_of_rating2 =[]\n",
    "price_level2 = []\n",
    "neighbourhood2 = []\n",
    "type_of_resturant2 = []\n",
    "for soup in soups:\n",
    "    #Resturant name \n",
    "    htags =soup.find_all(\"h3\",class_=\"css-kagwww\")\n",
    "    for tags in htags:\n",
    "        resturant_names2.append(tags.text.replace('\\xa0','').split('.')[1])\n",
    "    #Number of reviews\n",
    "    rates = soup.find_all('span', class_='reviewCount__09f24__tnBk4 css-chan6m')\n",
    "    for rate in rates:\n",
    "        number_of_rating2.append(rate.text)\n",
    "    #Prices\n",
    "    princing = soup.select('.css-dzq7l1')\n",
    "    for price in princing:\n",
    "        price_output = price.text\n",
    "        price_level2.append(re.findall('€+',price_output))\n",
    "    #Location\n",
    "    neighbour = soup.select('.css-dzq7l1')\n",
    "    for neighb in neighbour:\n",
    "        neighb_output= neighb.text\n",
    "        neighbourhood2.append(re.findall('€+(\\w+)',neighb_output))\n",
    "    #Ratings\n",
    "    ratings = soup.find_all('div',{'role':'img'})\n",
    "    for rate in ratings:\n",
    "        ratings2.append((rate['aria-label']).split(' ')[0])\n",
    "    #Resturant types\n",
    "    resturant_types = soup.select('.css-dzq7l1')    \n",
    "    for types in resturant_types:\n",
    "        types_output = types.text\n",
    "        type_of_resturant2.append(types_output.split('€')[0])\n",
    "\n",
    "        \n",
    "\n",
    "\n"
   ]
  },
  {
   "cell_type": "code",
   "execution_count": 84,
   "metadata": {},
   "outputs": [
    {
     "data": {
      "text/plain": [
       "'4.5'"
      ]
     },
     "execution_count": 84,
     "metadata": {},
     "output_type": "execute_result"
    }
   ],
   "source": [
    "ratings2[0].split(' ')[0]"
   ]
  },
  {
   "cell_type": "code",
   "execution_count": 79,
   "metadata": {},
   "outputs": [
    {
     "data": {
      "text/plain": [
       "240"
      ]
     },
     "execution_count": 79,
     "metadata": {},
     "output_type": "execute_result"
    }
   ],
   "source": [
    "len(type_of_resturant2)"
   ]
  },
  {
   "cell_type": "code",
   "execution_count": 14,
   "metadata": {},
   "outputs": [
    {
     "data": {
      "text/html": [
       "<div>\n",
       "<style scoped>\n",
       "    .dataframe tbody tr th:only-of-type {\n",
       "        vertical-align: middle;\n",
       "    }\n",
       "\n",
       "    .dataframe tbody tr th {\n",
       "        vertical-align: top;\n",
       "    }\n",
       "\n",
       "    .dataframe thead th {\n",
       "        text-align: right;\n",
       "    }\n",
       "</style>\n",
       "<table border=\"1\" class=\"dataframe\">\n",
       "  <thead>\n",
       "    <tr style=\"text-align: right;\">\n",
       "      <th></th>\n",
       "      <th>Names</th>\n",
       "      <th>Prices</th>\n",
       "      <th>Neighbourhoods</th>\n",
       "      <th>Number_of_reviews</th>\n",
       "      <th>Ratings</th>\n",
       "      <th>Type_of_resturant</th>\n",
       "    </tr>\n",
       "  </thead>\n",
       "  <tbody>\n",
       "    <tr>\n",
       "      <th>0</th>\n",
       "      <td>Stadtklause</td>\n",
       "      <td>€</td>\n",
       "      <td>Kreuzberg</td>\n",
       "      <td>171</td>\n",
       "      <td>4.5</td>\n",
       "      <td>German</td>\n",
       "    </tr>\n",
       "    <tr>\n",
       "      <th>1</th>\n",
       "      <td>Momotaro Tavern</td>\n",
       "      <td>€€</td>\n",
       "      <td>Mitte</td>\n",
       "      <td>60</td>\n",
       "      <td>4.5</td>\n",
       "      <td>BurgersAsian Fusion</td>\n",
       "    </tr>\n",
       "    <tr>\n",
       "      <th>2</th>\n",
       "      <td>Aigner Gendarmenmarkt</td>\n",
       "      <td>€€€</td>\n",
       "      <td>Mitte</td>\n",
       "      <td>120</td>\n",
       "      <td>4</td>\n",
       "      <td>GermanAustrian</td>\n",
       "    </tr>\n",
       "    <tr>\n",
       "      <th>3</th>\n",
       "      <td>JOSEPH</td>\n",
       "      <td>NaN</td>\n",
       "      <td>NaN</td>\n",
       "      <td>5</td>\n",
       "      <td>4</td>\n",
       "      <td>IsraeliMitte</td>\n",
       "    </tr>\n",
       "    <tr>\n",
       "      <th>4</th>\n",
       "      <td>Gaffel Haus Berlin</td>\n",
       "      <td>€€</td>\n",
       "      <td>Mitte</td>\n",
       "      <td>74</td>\n",
       "      <td>4</td>\n",
       "      <td>RhinelandianPubs</td>\n",
       "    </tr>\n",
       "    <tr>\n",
       "      <th>...</th>\n",
       "      <td>...</td>\n",
       "      <td>...</td>\n",
       "      <td>...</td>\n",
       "      <td>...</td>\n",
       "      <td>...</td>\n",
       "      <td>...</td>\n",
       "    </tr>\n",
       "    <tr>\n",
       "      <th>235</th>\n",
       "      <td>Hugos</td>\n",
       "      <td>€€€€</td>\n",
       "      <td>Tiergarten</td>\n",
       "      <td>37</td>\n",
       "      <td>5</td>\n",
       "      <td>GermanModern European</td>\n",
       "    </tr>\n",
       "    <tr>\n",
       "      <th>236</th>\n",
       "      <td>heimlichTreu</td>\n",
       "      <td>€€€</td>\n",
       "      <td>Mitte</td>\n",
       "      <td>8</td>\n",
       "      <td>4.5</td>\n",
       "      <td>Modern European</td>\n",
       "    </tr>\n",
       "    <tr>\n",
       "      <th>237</th>\n",
       "      <td>Sabzi</td>\n",
       "      <td>€</td>\n",
       "      <td>Mitte</td>\n",
       "      <td>18</td>\n",
       "      <td>4.5</td>\n",
       "      <td>OrientalTakeaway &amp; Fast FoodMiddle Eastern</td>\n",
       "    </tr>\n",
       "    <tr>\n",
       "      <th>238</th>\n",
       "      <td>Cozymazu</td>\n",
       "      <td>€</td>\n",
       "      <td>Wedding</td>\n",
       "      <td>15</td>\n",
       "      <td>4.5</td>\n",
       "      <td>Tea RoomsTaiwanese</td>\n",
       "    </tr>\n",
       "    <tr>\n",
       "      <th>239</th>\n",
       "      <td>Odessa Mama</td>\n",
       "      <td>NaN</td>\n",
       "      <td>NaN</td>\n",
       "      <td>7</td>\n",
       "      <td>4.5</td>\n",
       "      <td>UkranianInternationalSchöneberg</td>\n",
       "    </tr>\n",
       "  </tbody>\n",
       "</table>\n",
       "<p>240 rows × 6 columns</p>\n",
       "</div>"
      ],
      "text/plain": [
       "                     Names Prices Neighbourhoods Number_of_reviews Ratings  \\\n",
       "0              Stadtklause      €      Kreuzberg               171     4.5   \n",
       "1          Momotaro Tavern     €€          Mitte                60     4.5   \n",
       "2    Aigner Gendarmenmarkt    €€€          Mitte               120       4   \n",
       "3                   JOSEPH    NaN            NaN                 5       4   \n",
       "4       Gaffel Haus Berlin     €€          Mitte                74       4   \n",
       "..                     ...    ...            ...               ...     ...   \n",
       "235                  Hugos   €€€€     Tiergarten                37       5   \n",
       "236           heimlichTreu    €€€          Mitte                 8     4.5   \n",
       "237                  Sabzi      €          Mitte                18     4.5   \n",
       "238               Cozymazu      €        Wedding                15     4.5   \n",
       "239            Odessa Mama    NaN            NaN                 7     4.5   \n",
       "\n",
       "                              Type_of_resturant  \n",
       "0                                        German  \n",
       "1                           BurgersAsian Fusion  \n",
       "2                                GermanAustrian  \n",
       "3                                  IsraeliMitte  \n",
       "4                              RhinelandianPubs  \n",
       "..                                          ...  \n",
       "235                       GermanModern European  \n",
       "236                             Modern European  \n",
       "237  OrientalTakeaway & Fast FoodMiddle Eastern  \n",
       "238                          Tea RoomsTaiwanese  \n",
       "239             UkranianInternationalSchöneberg  \n",
       "\n",
       "[240 rows x 6 columns]"
      ]
     },
     "execution_count": 14,
     "metadata": {},
     "output_type": "execute_result"
    }
   ],
   "source": [
    "##For cleaning the price column \n",
    "final_data =pd.DataFrame({'Names':resturant_names2, 'Prices':price_level2,'Neighbourhoods':neighbourhood2,'Number_of_reviews':number_of_rating2,'Ratings':ratings2,'Type_of_resturant':type_of_resturant2})\n",
    "final_data=final_data.mask(final_data.applymap(str).eq('[]'))\n",
    "final_data=final_data.explode(['Prices'])\n",
    "final_data=final_data.explode(['Neighbourhoods'])\n",
    "final_data"
   ]
  },
  {
   "cell_type": "code",
   "execution_count": 14,
   "metadata": {},
   "outputs": [],
   "source": [
    "#saving into a csv file \n",
    "final_data.to_csv('Resturantdata.csv',index=False)"
   ]
  },
  {
   "cell_type": "code",
   "execution_count": null,
   "metadata": {},
   "outputs": [],
   "source": []
  },
  {
   "cell_type": "code",
   "execution_count": null,
   "metadata": {},
   "outputs": [],
   "source": []
  },
  {
   "cell_type": "code",
   "execution_count": null,
   "metadata": {},
   "outputs": [],
   "source": []
  },
  {
   "cell_type": "code",
   "execution_count": null,
   "metadata": {},
   "outputs": [],
   "source": []
  },
  {
   "cell_type": "code",
   "execution_count": 2,
   "metadata": {},
   "outputs": [
    {
     "name": "stdout",
     "output_type": "stream",
     "text": [
      "<Response [200]>\n"
     ]
    }
   ],
   "source": [
    "#For the single page\n",
    "url_amenities = requests.get('https://www.yelp.co.uk/search?cflt=burgers&find_loc=Berlin%2C+Germany')\n",
    "print(url_amenities)\n",
    "soup_url_amenitie = BeautifulSoup(url_amenities.content, 'html.parser')"
   ]
  },
  {
   "cell_type": "code",
   "execution_count": null,
   "metadata": {},
   "outputs": [],
   "source": [
    "s=Service('chromedriver.exe')\n",
    "driver = webdriver.Chrome(service=s)"
   ]
  },
  {
   "cell_type": "code",
   "execution_count": 32,
   "metadata": {},
   "outputs": [],
   "source": [
    "amenities = soup_url_amenitie.find_all('span',class_= 'css-1egxyvc')\n",
    "result_amenities1=[]\n",
    "all_nonevales=[]\n",
    "for amen in amenities:\n",
    "    try: \n",
    "        another_url = amen.a['href']\n",
    "        url_2 = 'https://www.yelp.co.uk{}'.format(another_url)\n",
    "        driver.get(url_2)\n",
    "        time.sleep(2)\n",
    "        cookies_button = driver.find_element_by_xpath('//*[@id=\"onetrust-accept-btn-handler\"]')\n",
    "        time.sleep(2)\n",
    "        cookies_button.click()\n",
    "        \n",
    "        # result.append(url_2)\n",
    "    except:\n",
    "        # continue\n",
    "        all_nonevales.append(np.nan)\n",
    "      \n",
    "    \n"
   ]
  },
  {
   "cell_type": "code",
   "execution_count": 35,
   "metadata": {},
   "outputs": [
    {
     "data": {
      "text/plain": [
       "'/biz/peter-pane-berlin-5'"
      ]
     },
     "execution_count": 35,
     "metadata": {},
     "output_type": "execute_result"
    }
   ],
   "source": [
    "another_url"
   ]
  },
  {
   "cell_type": "code",
   "execution_count": 34,
   "metadata": {},
   "outputs": [
    {
     "data": {
      "text/plain": [
       "'https://www.yelp.co.uk/biz/bbi-berlinburger-international-berlin'"
      ]
     },
     "execution_count": 34,
     "metadata": {},
     "output_type": "execute_result"
    }
   ],
   "source": [
    "result[1]"
   ]
  },
  {
   "cell_type": "code",
   "execution_count": 5,
   "metadata": {},
   "outputs": [],
   "source": [
    "my_amenity = amenities[0].a['href']\n",
    "the_ur1 = 'https://www.yelp.co.uk{}'.format(my_amenity)\n",
    "responses = requests.get(the_ur1)\n",
    "thepage= BeautifulSoup(responses.content,'html.parser')\n"
   ]
  },
  {
   "cell_type": "code",
   "execution_count": 6,
   "metadata": {},
   "outputs": [
    {
     "data": {
      "text/plain": [
       "['Takes Reservations', 'Offers Takeout', 'Many Vegetarian Options']"
      ]
     },
     "execution_count": 6,
     "metadata": {},
     "output_type": "execute_result"
    }
   ],
   "source": [
    "theamenites = []\n",
    "available_amenities = thepage.find_all(\"span\",class_=\"css-1p9ibgf\")\n",
    "for avail in available_amenities:\n",
    "    theamenites.append(avail.text)\n",
    "theamenites"
   ]
  },
  {
   "cell_type": "code",
   "execution_count": 42,
   "metadata": {},
   "outputs": [],
   "source": [
    "available_amenities2 = thepage.find(\"p\",class_=\"css-1wayfxy\")"
   ]
  },
  {
   "cell_type": "code",
   "execution_count": 46,
   "metadata": {},
   "outputs": [
    {
     "data": {
      "text/plain": [
       "<p class=\"css-1wayfxy\" data-font-weight=\"semibold\">8 More Attributes</p>"
      ]
     },
     "execution_count": 46,
     "metadata": {},
     "output_type": "execute_result"
    }
   ],
   "source": [
    "dtext = available_amenities2.text\n",
    "dtext"
   ]
  },
  {
   "cell_type": "code",
   "execution_count": 4,
   "metadata": {},
   "outputs": [
    {
     "name": "stderr",
     "output_type": "stream",
     "text": [
      "C:\\Users\\T430\\AppData\\Local\\Temp/ipykernel_1908/2326157149.py:9: DeprecationWarning: find_element_by_* commands are deprecated. Please use find_element() instead\n",
      "  cookies_button = driver.find_element_by_xpath('//*[@id=\"onetrust-accept-btn-handler\"]')\n",
      "C:\\Users\\T430\\AppData\\Local\\Temp/ipykernel_1908/2326157149.py:13: DeprecationWarning: find_element_by_* commands are deprecated. Please use find_element() instead\n",
      "  amenitys = driver.find_element_by_xpath('//*[@aria-label=\"Amenities and More\"]')\n",
      "C:\\Users\\T430\\anaconda3\\envs\\strive\\lib\\site-packages\\selenium\\webdriver\\remote\\webelement.py:393: UserWarning: find_element_by_* commands are deprecated. Please use find_element() instead\n",
      "  warnings.warn(\"find_element_by_* commands are deprecated. Please use find_element() instead\")\n"
     ]
    }
   ],
   "source": [
    "\n",
    "# from selenium.webdriver.chrome.service import Service\n",
    "\n",
    "# from selenium import webdriver\n",
    "# # import webbrowser\n",
    "s=Service('chromedriver.exe')\n",
    "driver = webdriver.Chrome(service=s)\n",
    "driver.get('https://www.yelp.co.uk/biz/taste-berlin-2?osq=restaurants')\n",
    "time.sleep(2)\n",
    "cookies_button = driver.find_element_by_xpath('//*[@id=\"onetrust-accept-btn-handler\"]')\n",
    "time.sleep(2)\n",
    "cookies_button.click()\n",
    "time.sleep(1)\n",
    "amenitys = driver.find_element_by_xpath('//*[@aria-label=\"Amenities and More\"]') \n",
    "amenties_button = amenitys.find_element_by_xpath('.//*[@class=\" css-gme0a6\"]')#the '.' means find in here\n",
    "time.sleep(1)\n",
    "amenties_button.click()\n",
    "new_soup=BeautifulSoup(driver.page_source)\n",
    "all_amenities = new_soup.find_all(\"span\",class_=\"css-1p9ibgf\")\n",
    "\n",
    "\n"
   ]
  },
  {
   "cell_type": "code",
   "execution_count": 12,
   "metadata": {},
   "outputs": [
    {
     "data": {
      "text/plain": [
       "['Takes Reservations',\n",
       " 'Offers Delivery',\n",
       " 'Offers Takeout',\n",
       " 'Outdoor Seating',\n",
       " 'Moderate Noise',\n",
       " 'Good for Groups',\n",
       " 'Good For Kids',\n",
       " 'Waiter Service',\n",
       " 'Free Wi-Fi',\n",
       " 'Full Bar',\n",
       " 'TV']"
      ]
     },
     "execution_count": 12,
     "metadata": {},
     "output_type": "execute_result"
    }
   ],
   "source": [
    "allam=[]\n",
    "for a in all_amenities:\n",
    "    allam.append(a.text)\n",
    "\n",
    "allam"
   ]
  },
  {
   "cell_type": "code",
   "execution_count": 20,
   "metadata": {},
   "outputs": [
    {
     "name": "stderr",
     "output_type": "stream",
     "text": [
      "C:\\Users\\T430\\AppData\\Local\\Temp/ipykernel_15676/84947164.py:2: DeprecationWarning: find_element_by_* commands are deprecated. Please use find_element() instead\n",
      "  amenitys = driver.find_element_by_xpath('//*[@aria-label=\"Amenities and More\"]')\n",
      "C:\\Users\\T430\\anaconda3\\envs\\strive\\lib\\site-packages\\selenium\\webdriver\\remote\\webelement.py:393: UserWarning: find_element_by_* commands are deprecated. Please use find_element() instead\n",
      "  warnings.warn(\"find_element_by_* commands are deprecated. Please use find_element() instead\")\n"
     ]
    }
   ],
   "source": [
    "# amenties_button = driver.find_element_by_id(dtext)\n",
    "amenitys = driver.find_element_by_xpath('//*[@aria-label=\"Amenities and More\"]') \n",
    "amenties_button = amenitys.find_element_by_xpath('.//*[@class=\" css-gme0a6\"]')#the '.' means find in here\n",
    "time.sleep(1)\n",
    "amenties_button.click()\n"
   ]
  },
  {
   "cell_type": "code",
   "execution_count": 21,
   "metadata": {},
   "outputs": [],
   "source": [
    "new_soup=BeautifulSoup(driver.page_source)"
   ]
  },
  {
   "cell_type": "code",
   "execution_count": 38,
   "metadata": {},
   "outputs": [
    {
     "ename": "AttributeError",
     "evalue": "ResultSet object has no attribute 'text'. You're probably treating a list of elements like a single element. Did you call find_all() when you meant to call find()?",
     "output_type": "error",
     "traceback": [
      "\u001b[1;31m---------------------------------------------------------------------------\u001b[0m",
      "\u001b[1;31mAttributeError\u001b[0m                            Traceback (most recent call last)",
      "\u001b[1;32m~\\AppData\\Local\\Temp/ipykernel_15676/124512129.py\u001b[0m in \u001b[0;36m<module>\u001b[1;34m\u001b[0m\n\u001b[0;32m      1\u001b[0m \u001b[0mdo\u001b[0m\u001b[1;33m=\u001b[0m\u001b[1;33m[\u001b[0m\u001b[1;33m]\u001b[0m\u001b[1;33m\u001b[0m\u001b[1;33m\u001b[0m\u001b[0m\n\u001b[1;32m----> 2\u001b[1;33m \u001b[0mtake\u001b[0m \u001b[1;33m=\u001b[0m \u001b[0mnew_soup\u001b[0m\u001b[1;33m.\u001b[0m\u001b[0mfind_all\u001b[0m\u001b[1;33m(\u001b[0m\u001b[1;34m\"span\"\u001b[0m\u001b[1;33m,\u001b[0m\u001b[0mclass_\u001b[0m\u001b[1;33m=\u001b[0m\u001b[1;34m\"css-1p9ibgf\"\u001b[0m\u001b[1;33m)\u001b[0m\u001b[1;33m.\u001b[0m\u001b[0mtext\u001b[0m\u001b[1;33m\u001b[0m\u001b[1;33m\u001b[0m\u001b[0m\n\u001b[0m\u001b[0;32m      3\u001b[0m \u001b[1;31m# for ta in take:\u001b[0m\u001b[1;33m\u001b[0m\u001b[1;33m\u001b[0m\u001b[1;33m\u001b[0m\u001b[0m\n\u001b[0;32m      4\u001b[0m \u001b[1;31m#     do.append(ta.text)\u001b[0m\u001b[1;33m\u001b[0m\u001b[1;33m\u001b[0m\u001b[1;33m\u001b[0m\u001b[0m\n",
      "\u001b[1;32m~\\anaconda3\\envs\\strive\\lib\\site-packages\\bs4\\element.py\u001b[0m in \u001b[0;36m__getattr__\u001b[1;34m(self, key)\u001b[0m\n\u001b[0;32m   2251\u001b[0m     \u001b[1;32mdef\u001b[0m \u001b[0m__getattr__\u001b[0m\u001b[1;33m(\u001b[0m\u001b[0mself\u001b[0m\u001b[1;33m,\u001b[0m \u001b[0mkey\u001b[0m\u001b[1;33m)\u001b[0m\u001b[1;33m:\u001b[0m\u001b[1;33m\u001b[0m\u001b[1;33m\u001b[0m\u001b[0m\n\u001b[0;32m   2252\u001b[0m         \u001b[1;34m\"\"\"Raise a helpful exception to explain a common code fix.\"\"\"\u001b[0m\u001b[1;33m\u001b[0m\u001b[1;33m\u001b[0m\u001b[0m\n\u001b[1;32m-> 2253\u001b[1;33m         raise AttributeError(\n\u001b[0m\u001b[0;32m   2254\u001b[0m             \u001b[1;34m\"ResultSet object has no attribute '%s'. You're probably treating a list of elements like a single element. Did you call find_all() when you meant to call find()?\"\u001b[0m \u001b[1;33m%\u001b[0m \u001b[0mkey\u001b[0m\u001b[1;33m\u001b[0m\u001b[1;33m\u001b[0m\u001b[0m\n\u001b[0;32m   2255\u001b[0m         )\n",
      "\u001b[1;31mAttributeError\u001b[0m: ResultSet object has no attribute 'text'. You're probably treating a list of elements like a single element. Did you call find_all() when you meant to call find()?"
     ]
    }
   ],
   "source": [
    "do=[]\n",
    "take = new_soup.find_all(\"span\",class_=\"css-1p9ibgf\")\n",
    "# for ta in take:\n",
    "#     do.append(ta.text)"
   ]
  },
  {
   "cell_type": "code",
   "execution_count": 37,
   "metadata": {},
   "outputs": [
    {
     "data": {
      "text/plain": [
       "['Takes Reservations',\n",
       " 'Offers Delivery',\n",
       " 'Offers Takeout',\n",
       " 'Outdoor Seating',\n",
       " 'Moderate Noise',\n",
       " 'Good for Groups',\n",
       " 'Good For Kids',\n",
       " 'Waiter Service',\n",
       " 'Free Wi-Fi',\n",
       " 'Full Bar',\n",
       " 'TV']"
      ]
     },
     "execution_count": 37,
     "metadata": {},
     "output_type": "execute_result"
    }
   ],
   "source": [
    "do"
   ]
  },
  {
   "cell_type": "code",
   "execution_count": 27,
   "metadata": {},
   "outputs": [],
   "source": [
    "\n",
    "# anenn = []\n",
    "# # url_2 = 'https://www.yelp.co.uk{}'.format(another_url)\n",
    "# response = requests.get(url_2)\n",
    "# pages = BeautifulSoup(response.content,'html.parser')\n",
    "# featur = soup.find_all('div',class_= 'arrange__09f24__LDfbs gutter-2__09f24__CCmUo layout-wrap__09f24__GEBlv layout-2-units__09f24__PsGVW border-color--default__09f24__NPAKY')\n",
    "# # features = pages.find_all('section',class_= 'margin-t4__09f24__G0VVf padding-t4__09f24__Y6aGL border--top__09f24__exYYb border-color--default__09f24__NPAKY')\n",
    "# for fean in featur:\n",
    "#     featn = fean.find_all(\"span\",class_=\"css-1p9ibgf\")\n",
    "#     for featsn in featn:\n",
    "#         anenn.append(featsn.text)\n"
   ]
  },
  {
   "cell_type": "code",
   "execution_count": 38,
   "metadata": {},
   "outputs": [],
   "source": [
    "# rest_amenitiess = []\n",
    "# css_class =  soup.select('.css-1p9ibgf')\n",
    "# for amenity in css_class:\n",
    "#     rest_amenitiess.append(amenity.text)\n"
   ]
  },
  {
   "cell_type": "code",
   "execution_count": 39,
   "metadata": {},
   "outputs": [
    {
     "data": {
      "text/plain": [
       "[]"
      ]
     },
     "execution_count": 39,
     "metadata": {},
     "output_type": "execute_result"
    }
   ],
   "source": []
  },
  {
   "cell_type": "code",
   "execution_count": null,
   "metadata": {},
   "outputs": [],
   "source": []
  }
 ],
 "metadata": {
  "interpreter": {
   "hash": "b30284c3eb2fe4bedcae5b4d3ef6c8cdca82eb3ff0361126b1f813dcb02e6084"
  },
  "kernelspec": {
   "display_name": "Python 3.8.12 ('strive')",
   "language": "python",
   "name": "python3"
  },
  "language_info": {
   "codemirror_mode": {
    "name": "ipython",
    "version": 3
   },
   "file_extension": ".py",
   "mimetype": "text/x-python",
   "name": "python",
   "nbconvert_exporter": "python",
   "pygments_lexer": "ipython3",
   "version": "3.8.12"
  },
  "orig_nbformat": 4
 },
 "nbformat": 4,
 "nbformat_minor": 2
}
