{
 "cells": [
  {
   "cell_type": "code",
   "execution_count": 2,
   "metadata": {},
   "outputs": [],
   "source": [
    "import numpy as np\n",
    "import pandas as pd\n",
    "from datetime import timedelta, date\n",
    "import time\n",
    "import re\n",
    "import requests\n",
    "from bs4 import BeautifulSoup"
   ]
  },
  {
   "cell_type": "code",
   "execution_count": null,
   "metadata": {},
   "outputs": [],
   "source": [
    "##For the single page\n",
    "# url = requests.get('https://www.yelp.co.uk/search?cflt=burgers&find_loc=Berlin%2C+Germany')\n",
    "# print(url)\n",
    "# soup = BeautifulSoup(url.content, 'html.parser')"
   ]
  },
  {
   "cell_type": "code",
   "execution_count": 6,
   "metadata": {},
   "outputs": [],
   "source": [
    "num = []\n",
    "for i in range(0,240,10):\n",
    "    num.append(i)\n",
    "\n",
    "\n",
    "soups = [] \n",
    "for page_num in num:\n",
    "    url = requests.get(f'https://www.yelp.co.uk/search?find_desc=restaurants+&find_loc=Berlin%2C+Germany&start={page_num}')\n",
    "    print(url)\n",
    "    soups.append( BeautifulSoup(url.content, 'html.parser') )\n",
    "    time.sleep(30)\n"
   ]
  },
  {
   "cell_type": "code",
   "execution_count": 12,
   "metadata": {},
   "outputs": [],
   "source": [
    "##storing the soups to avoid scrapping again\n",
    "hotelsoupdata= pd.DataFrame({'soup':soups})\n",
    "hotelsoupdata.to_csv('hotelsoupdata.csv', index=False) "
   ]
  },
  {
   "cell_type": "code",
   "execution_count": 4,
   "metadata": {},
   "outputs": [],
   "source": [
    "resturant_names2 =[]\n",
    "ratings2 = []\n",
    "number_of_rating2 =[]\n",
    "price_level2 = []\n",
    "neighbourhood2 = []\n",
    "type_of_resturant2 = []\n",
    "for soup in soups:\n",
    "    #Resturant name \n",
    "    htags =soup.find_all(\"h3\",class_=\"css-kagwww\")\n",
    "    for tags in htags:\n",
    "        resturant_names2.append(tags.text.replace('\\xa0','').split('.')[1])\n",
    "    #Number of reviews\n",
    "    rates = soup.find_all('span', class_='reviewCount__09f24__tnBk4 css-chan6m')\n",
    "    for rate in rates:\n",
    "        number_of_rating2.append(rate.text)\n",
    "    #Prices\n",
    "    princing = soup.select('.css-dzq7l1')\n",
    "    for price in princing:\n",
    "        price_output = price.text\n",
    "        price_level2.append(re.findall('€+',price_output))\n",
    "    #Location\n",
    "    neighbour = soup.select('.css-dzq7l1')\n",
    "    for neighb in neighbour:\n",
    "        neighb_output= neighb.text\n",
    "        neighbourhood2.append(re.findall('€+(\\w+)',neighb_output))\n",
    "    #Ratings\n",
    "    ratings = soup.find_all('div',{'role':'img'})\n",
    "    for rate in ratings:\n",
    "        ratings2.append((rate['aria-label']).split(' ')[0])\n",
    "    #Resturant types\n",
    "    resturant_types = soup.select('.css-dzq7l1')    \n",
    "    for types in resturant_types:\n",
    "        types_output = types.text\n",
    "        type_of_resturant2.append(types_output.split('€')[0])\n",
    "\n",
    "        \n",
    "\n",
    "\n"
   ]
  },
  {
   "cell_type": "code",
   "execution_count": 84,
   "metadata": {},
   "outputs": [
    {
     "data": {
      "text/plain": [
       "'4.5'"
      ]
     },
     "execution_count": 84,
     "metadata": {},
     "output_type": "execute_result"
    }
   ],
   "source": [
    "ratings2[0].split(' ')[0]"
   ]
  },
  {
   "cell_type": "code",
   "execution_count": 79,
   "metadata": {},
   "outputs": [
    {
     "data": {
      "text/plain": [
       "240"
      ]
     },
     "execution_count": 79,
     "metadata": {},
     "output_type": "execute_result"
    }
   ],
   "source": [
    "len(type_of_resturant2)"
   ]
  },
  {
   "cell_type": "code",
   "execution_count": 7,
   "metadata": {},
   "outputs": [
    {
     "data": {
      "text/html": [
       "<div>\n",
       "<style scoped>\n",
       "    .dataframe tbody tr th:only-of-type {\n",
       "        vertical-align: middle;\n",
       "    }\n",
       "\n",
       "    .dataframe tbody tr th {\n",
       "        vertical-align: top;\n",
       "    }\n",
       "\n",
       "    .dataframe thead th {\n",
       "        text-align: right;\n",
       "    }\n",
       "</style>\n",
       "<table border=\"1\" class=\"dataframe\">\n",
       "  <thead>\n",
       "    <tr style=\"text-align: right;\">\n",
       "      <th></th>\n",
       "      <th>Names</th>\n",
       "      <th>Prices</th>\n",
       "      <th>Neighbourhoods</th>\n",
       "      <th>Number_of_reviews</th>\n",
       "      <th>Ratings</th>\n",
       "      <th>Type_of_resturant</th>\n",
       "    </tr>\n",
       "  </thead>\n",
       "  <tbody>\n",
       "    <tr>\n",
       "      <th>0</th>\n",
       "      <td>Stadtklause</td>\n",
       "      <td>€</td>\n",
       "      <td>Kreuzberg</td>\n",
       "      <td>171</td>\n",
       "      <td>4.5</td>\n",
       "      <td>German</td>\n",
       "    </tr>\n",
       "    <tr>\n",
       "      <th>1</th>\n",
       "      <td>Schnitzelei Mitte</td>\n",
       "      <td>€€€</td>\n",
       "      <td>Mitte</td>\n",
       "      <td>51</td>\n",
       "      <td>4.5</td>\n",
       "      <td>Schnitzel</td>\n",
       "    </tr>\n",
       "    <tr>\n",
       "      <th>2</th>\n",
       "      <td>Momotaro Tavern</td>\n",
       "      <td>€€</td>\n",
       "      <td>Mitte</td>\n",
       "      <td>60</td>\n",
       "      <td>4.5</td>\n",
       "      <td>BurgersAsian Fusion</td>\n",
       "    </tr>\n",
       "    <tr>\n",
       "      <th>3</th>\n",
       "      <td>Aigner Gendarmenmarkt</td>\n",
       "      <td>€€€</td>\n",
       "      <td>Mitte</td>\n",
       "      <td>120</td>\n",
       "      <td>4</td>\n",
       "      <td>GermanAustrian</td>\n",
       "    </tr>\n",
       "    <tr>\n",
       "      <th>4</th>\n",
       "      <td>Ngon Restaurant Berlin</td>\n",
       "      <td>NaN</td>\n",
       "      <td>NaN</td>\n",
       "      <td>20</td>\n",
       "      <td>4.5</td>\n",
       "      <td>VietnamesePan AsianMitte</td>\n",
       "    </tr>\n",
       "    <tr>\n",
       "      <th>...</th>\n",
       "      <td>...</td>\n",
       "      <td>...</td>\n",
       "      <td>...</td>\n",
       "      <td>...</td>\n",
       "      <td>...</td>\n",
       "      <td>...</td>\n",
       "    </tr>\n",
       "    <tr>\n",
       "      <th>235</th>\n",
       "      <td>The MyMoon</td>\n",
       "      <td>NaN</td>\n",
       "      <td>NaN</td>\n",
       "      <td>4</td>\n",
       "      <td>4.5</td>\n",
       "      <td>Breakfast &amp; BrunchSteakhousesTakeaway &amp; Fast F...</td>\n",
       "    </tr>\n",
       "    <tr>\n",
       "      <th>236</th>\n",
       "      <td>Java House</td>\n",
       "      <td>€</td>\n",
       "      <td>Wedding</td>\n",
       "      <td>13</td>\n",
       "      <td>4.5</td>\n",
       "      <td>Pan Asian</td>\n",
       "    </tr>\n",
       "    <tr>\n",
       "      <th>237</th>\n",
       "      <td>Curry Baude</td>\n",
       "      <td>€</td>\n",
       "      <td>Wedding</td>\n",
       "      <td>106</td>\n",
       "      <td>4.5</td>\n",
       "      <td>Curry SausageTakeaway &amp; Fast Food</td>\n",
       "    </tr>\n",
       "    <tr>\n",
       "      <th>238</th>\n",
       "      <td>Maultaschen Manufaktur</td>\n",
       "      <td>NaN</td>\n",
       "      <td>NaN</td>\n",
       "      <td>4</td>\n",
       "      <td>5</td>\n",
       "      <td>SwabianKreuzberg</td>\n",
       "    </tr>\n",
       "    <tr>\n",
       "      <th>239</th>\n",
       "      <td>Restaurant Foreign Affairs</td>\n",
       "      <td>€€€</td>\n",
       "      <td>Mitte</td>\n",
       "      <td>11</td>\n",
       "      <td>4</td>\n",
       "      <td>GermanAustrianInternational</td>\n",
       "    </tr>\n",
       "  </tbody>\n",
       "</table>\n",
       "<p>240 rows × 6 columns</p>\n",
       "</div>"
      ],
      "text/plain": [
       "                          Names Prices Neighbourhoods Number_of_reviews  \\\n",
       "0                   Stadtklause      €      Kreuzberg               171   \n",
       "1             Schnitzelei Mitte    €€€          Mitte                51   \n",
       "2               Momotaro Tavern     €€          Mitte                60   \n",
       "3         Aigner Gendarmenmarkt    €€€          Mitte               120   \n",
       "4        Ngon Restaurant Berlin    NaN            NaN                20   \n",
       "..                          ...    ...            ...               ...   \n",
       "235                  The MyMoon    NaN            NaN                 4   \n",
       "236                  Java House      €        Wedding                13   \n",
       "237                 Curry Baude      €        Wedding               106   \n",
       "238      Maultaschen Manufaktur    NaN            NaN                 4   \n",
       "239  Restaurant Foreign Affairs    €€€          Mitte                11   \n",
       "\n",
       "    Ratings                                  Type_of_resturant  \n",
       "0       4.5                                             German  \n",
       "1       4.5                                          Schnitzel  \n",
       "2       4.5                                BurgersAsian Fusion  \n",
       "3         4                                     GermanAustrian  \n",
       "4       4.5                           VietnamesePan AsianMitte  \n",
       "..      ...                                                ...  \n",
       "235     4.5  Breakfast & BrunchSteakhousesTakeaway & Fast F...  \n",
       "236     4.5                                          Pan Asian  \n",
       "237     4.5                  Curry SausageTakeaway & Fast Food  \n",
       "238       5                                   SwabianKreuzberg  \n",
       "239       4                        GermanAustrianInternational  \n",
       "\n",
       "[240 rows x 6 columns]"
      ]
     },
     "execution_count": 7,
     "metadata": {},
     "output_type": "execute_result"
    }
   ],
   "source": [
    "##For cleaning the price column \n",
    "final_data =pd.DataFrame({'Names':resturant_names2, 'Prices':price_level2,'Neighbourhoods':neighbourhood2,'Number_of_reviews':number_of_rating2,'Ratings':ratings2,'Type_of_resturant':type_of_resturant2})\n",
    "final_data=final_data.mask(final_data.applymap(str).eq('[]'))\n",
    "final_data=final_data.explode(['Prices'])\n",
    "final_data=final_data.explode(['Neighbourhoods'])\n",
    "final_data"
   ]
  },
  {
   "cell_type": "code",
   "execution_count": 14,
   "metadata": {},
   "outputs": [],
   "source": [
    "#saving into a csv file \n",
    "final_data.to_csv('Resturantdata.csv',index=False)"
   ]
  },
  {
   "cell_type": "code",
   "execution_count": null,
   "metadata": {},
   "outputs": [],
   "source": []
  },
  {
   "cell_type": "code",
   "execution_count": null,
   "metadata": {},
   "outputs": [],
   "source": []
  },
  {
   "cell_type": "code",
   "execution_count": null,
   "metadata": {},
   "outputs": [],
   "source": []
  },
  {
   "cell_type": "code",
   "execution_count": null,
   "metadata": {},
   "outputs": [],
   "source": []
  },
  {
   "cell_type": "code",
   "execution_count": 19,
   "metadata": {},
   "outputs": [
    {
     "name": "stdout",
     "output_type": "stream",
     "text": [
      "<Response [200]>\n"
     ]
    }
   ],
   "source": [
    "#For the single page\n",
    "url_amenities = requests.get('https://www.yelp.co.uk/search?cflt=burgers&find_loc=Berlin%2C+Germany')\n",
    "print(url_amenities)\n",
    "soup_url_amenitie = BeautifulSoup(url.content, 'html.parser')"
   ]
  },
  {
   "cell_type": "code",
   "execution_count": 20,
   "metadata": {},
   "outputs": [],
   "source": [
    "amenities = soup_url_amenitie.find_all('span',class_= 'css-1egxyvc')\n",
    "\n",
    "for amen in amenities:\n",
    "    another_url = amen.a['href']\n",
    "    url_2 = 'https://www.yelp.co.uk{}'.format(another_url)\n",
    "\n"
   ]
  },
  {
   "cell_type": "code",
   "execution_count": 26,
   "metadata": {},
   "outputs": [],
   "source": [
    "my_amenity = amenities[0].a['href']\n",
    "the_ur1 = 'https://www.yelp.co.uk{}'.format(my_amenity)\n",
    "responses = requests.get(the_ur1)\n",
    "thepage= BeautifulSoup(responses.content,'html.parser')\n"
   ]
  },
  {
   "cell_type": "code",
   "execution_count": 29,
   "metadata": {},
   "outputs": [
    {
     "data": {
      "text/plain": [
       "['Takes Reservations', 'Offers Delivery', 'Offers Takeout']"
      ]
     },
     "execution_count": 29,
     "metadata": {},
     "output_type": "execute_result"
    }
   ],
   "source": [
    "theamenites = []\n",
    "available_amenities = thepage.find_all(\"span\",class_=\"css-1p9ibgf\")\n",
    "for avail in available_amenities:\n",
    "    theamenites.append(avail.text)\n",
    "theamenites"
   ]
  },
  {
   "cell_type": "code",
   "execution_count": 42,
   "metadata": {},
   "outputs": [],
   "source": [
    "available_amenities2 = thepage.find(\"p\",class_=\"css-1wayfxy\")"
   ]
  },
  {
   "cell_type": "code",
   "execution_count": 46,
   "metadata": {},
   "outputs": [
    {
     "data": {
      "text/plain": [
       "<p class=\"css-1wayfxy\" data-font-weight=\"semibold\">8 More Attributes</p>"
      ]
     },
     "execution_count": 46,
     "metadata": {},
     "output_type": "execute_result"
    }
   ],
   "source": [
    "dtext = available_amenities2.text\n",
    "dtext"
   ]
  },
  {
   "cell_type": "code",
   "execution_count": 48,
   "metadata": {},
   "outputs": [],
   "source": [
    "from selenium import webdriver\n",
    "import webbrowser\n",
    "driver = webdriver.Chrome()\n",
    "driver.get('https://www.yelp.co.uk/biz/taste-berlin-2?osq=restaurants')\n"
   ]
  },
  {
   "cell_type": "code",
   "execution_count": 53,
   "metadata": {},
   "outputs": [
    {
     "name": "stderr",
     "output_type": "stream",
     "text": [
      "C:\\Users\\T430\\AppData\\Local\\Temp/ipykernel_27516/2423551775.py:1: DeprecationWarning: find_element_by_* commands are deprecated. Please use find_element() instead\n",
      "  amenties_button = driver.find_element_by_id(dtext)\n"
     ]
    },
    {
     "ename": "WebDriverException",
     "evalue": "Message: chrome not reachable\n  (Session info: chrome=99.0.4844.82)\nStacktrace:\nBacktrace:\n\tOrdinal0 [0x00549943+2595139]\n\tOrdinal0 [0x004DC9F1+2148849]\n\tOrdinal0 [0x003D43F0+1065968]\n\tOrdinal0 [0x003C87C2+1017794]\n\tOrdinal0 [0x003C8FF8+1019896]\n\tOrdinal0 [0x003CA892+1026194]\n\tOrdinal0 [0x003C4219+999961]\n\tOrdinal0 [0x003D5860+1071200]\n\tOrdinal0 [0x0042B2D2+1422034]\n\tOrdinal0 [0x0041B806+1357830]\n\tOrdinal0 [0x003F6086+1204358]\n\tOrdinal0 [0x003F6F96+1208214]\n\tGetHandleVerifier [0x006EB232+1658114]\n\tGetHandleVerifier [0x007A312C+2411516]\n\tGetHandleVerifier [0x005DF261+560433]\n\tGetHandleVerifier [0x005DE366+556598]\n\tOrdinal0 [0x004E286B+2173035]\n\tOrdinal0 [0x004E75F8+2192888]\n\tOrdinal0 [0x004E76E5+2193125]\n\tOrdinal0 [0x004F11FC+2232828]\n\tBaseThreadInitThunk [0x766CFA29+25]\n\tRtlGetAppContainerNamedObjectPath [0x77977A7E+286]\n\tRtlGetAppContainerNamedObjectPath [0x77977A4E+238]\n",
     "output_type": "error",
     "traceback": [
      "\u001b[1;31m---------------------------------------------------------------------------\u001b[0m",
      "\u001b[1;31mWebDriverException\u001b[0m                        Traceback (most recent call last)",
      "\u001b[1;32m~\\AppData\\Local\\Temp/ipykernel_27516/2423551775.py\u001b[0m in \u001b[0;36m<module>\u001b[1;34m\u001b[0m\n\u001b[1;32m----> 1\u001b[1;33m \u001b[0mamenties_button\u001b[0m \u001b[1;33m=\u001b[0m \u001b[0mdriver\u001b[0m\u001b[1;33m.\u001b[0m\u001b[0mfind_element_by_id\u001b[0m\u001b[1;33m(\u001b[0m\u001b[0mdtext\u001b[0m\u001b[1;33m)\u001b[0m\u001b[1;33m\u001b[0m\u001b[1;33m\u001b[0m\u001b[0m\n\u001b[0m",
      "\u001b[1;32m~\\anaconda3\\envs\\strive\\lib\\site-packages\\selenium\\webdriver\\remote\\webdriver.py\u001b[0m in \u001b[0;36mfind_element_by_id\u001b[1;34m(self, id_)\u001b[0m\n\u001b[0;32m    470\u001b[0m             \u001b[0mstacklevel\u001b[0m\u001b[1;33m=\u001b[0m\u001b[1;36m2\u001b[0m\u001b[1;33m,\u001b[0m\u001b[1;33m\u001b[0m\u001b[1;33m\u001b[0m\u001b[0m\n\u001b[0;32m    471\u001b[0m         )\n\u001b[1;32m--> 472\u001b[1;33m         \u001b[1;32mreturn\u001b[0m \u001b[0mself\u001b[0m\u001b[1;33m.\u001b[0m\u001b[0mfind_element\u001b[0m\u001b[1;33m(\u001b[0m\u001b[0mby\u001b[0m\u001b[1;33m=\u001b[0m\u001b[0mBy\u001b[0m\u001b[1;33m.\u001b[0m\u001b[0mID\u001b[0m\u001b[1;33m,\u001b[0m \u001b[0mvalue\u001b[0m\u001b[1;33m=\u001b[0m\u001b[0mid_\u001b[0m\u001b[1;33m)\u001b[0m\u001b[1;33m\u001b[0m\u001b[1;33m\u001b[0m\u001b[0m\n\u001b[0m\u001b[0;32m    473\u001b[0m \u001b[1;33m\u001b[0m\u001b[0m\n\u001b[0;32m    474\u001b[0m     \u001b[1;32mdef\u001b[0m \u001b[0mfind_elements_by_id\u001b[0m\u001b[1;33m(\u001b[0m\u001b[0mself\u001b[0m\u001b[1;33m,\u001b[0m \u001b[0mid_\u001b[0m\u001b[1;33m)\u001b[0m \u001b[1;33m->\u001b[0m \u001b[0mWebElement\u001b[0m\u001b[1;33m:\u001b[0m\u001b[1;33m\u001b[0m\u001b[1;33m\u001b[0m\u001b[0m\n",
      "\u001b[1;32m~\\anaconda3\\envs\\strive\\lib\\site-packages\\selenium\\webdriver\\remote\\webdriver.py\u001b[0m in \u001b[0;36mfind_element\u001b[1;34m(self, by, value)\u001b[0m\n\u001b[0;32m   1242\u001b[0m             \u001b[0mvalue\u001b[0m \u001b[1;33m=\u001b[0m \u001b[1;34m'[name=\"%s\"]'\u001b[0m \u001b[1;33m%\u001b[0m \u001b[0mvalue\u001b[0m\u001b[1;33m\u001b[0m\u001b[1;33m\u001b[0m\u001b[0m\n\u001b[0;32m   1243\u001b[0m \u001b[1;33m\u001b[0m\u001b[0m\n\u001b[1;32m-> 1244\u001b[1;33m         return self.execute(Command.FIND_ELEMENT, {\n\u001b[0m\u001b[0;32m   1245\u001b[0m             \u001b[1;34m'using'\u001b[0m\u001b[1;33m:\u001b[0m \u001b[0mby\u001b[0m\u001b[1;33m,\u001b[0m\u001b[1;33m\u001b[0m\u001b[1;33m\u001b[0m\u001b[0m\n\u001b[0;32m   1246\u001b[0m             'value': value})['value']\n",
      "\u001b[1;32m~\\anaconda3\\envs\\strive\\lib\\site-packages\\selenium\\webdriver\\remote\\webdriver.py\u001b[0m in \u001b[0;36mexecute\u001b[1;34m(self, driver_command, params)\u001b[0m\n\u001b[0;32m    422\u001b[0m         \u001b[0mresponse\u001b[0m \u001b[1;33m=\u001b[0m \u001b[0mself\u001b[0m\u001b[1;33m.\u001b[0m\u001b[0mcommand_executor\u001b[0m\u001b[1;33m.\u001b[0m\u001b[0mexecute\u001b[0m\u001b[1;33m(\u001b[0m\u001b[0mdriver_command\u001b[0m\u001b[1;33m,\u001b[0m \u001b[0mparams\u001b[0m\u001b[1;33m)\u001b[0m\u001b[1;33m\u001b[0m\u001b[1;33m\u001b[0m\u001b[0m\n\u001b[0;32m    423\u001b[0m         \u001b[1;32mif\u001b[0m \u001b[0mresponse\u001b[0m\u001b[1;33m:\u001b[0m\u001b[1;33m\u001b[0m\u001b[1;33m\u001b[0m\u001b[0m\n\u001b[1;32m--> 424\u001b[1;33m             \u001b[0mself\u001b[0m\u001b[1;33m.\u001b[0m\u001b[0merror_handler\u001b[0m\u001b[1;33m.\u001b[0m\u001b[0mcheck_response\u001b[0m\u001b[1;33m(\u001b[0m\u001b[0mresponse\u001b[0m\u001b[1;33m)\u001b[0m\u001b[1;33m\u001b[0m\u001b[1;33m\u001b[0m\u001b[0m\n\u001b[0m\u001b[0;32m    425\u001b[0m             response['value'] = self._unwrap_value(\n\u001b[0;32m    426\u001b[0m                 response.get('value', None))\n",
      "\u001b[1;32m~\\anaconda3\\envs\\strive\\lib\\site-packages\\selenium\\webdriver\\remote\\errorhandler.py\u001b[0m in \u001b[0;36mcheck_response\u001b[1;34m(self, response)\u001b[0m\n\u001b[0;32m    245\u001b[0m                 \u001b[0malert_text\u001b[0m \u001b[1;33m=\u001b[0m \u001b[0mvalue\u001b[0m\u001b[1;33m[\u001b[0m\u001b[1;34m'alert'\u001b[0m\u001b[1;33m]\u001b[0m\u001b[1;33m.\u001b[0m\u001b[0mget\u001b[0m\u001b[1;33m(\u001b[0m\u001b[1;34m'text'\u001b[0m\u001b[1;33m)\u001b[0m\u001b[1;33m\u001b[0m\u001b[1;33m\u001b[0m\u001b[0m\n\u001b[0;32m    246\u001b[0m             \u001b[1;32mraise\u001b[0m \u001b[0mexception_class\u001b[0m\u001b[1;33m(\u001b[0m\u001b[0mmessage\u001b[0m\u001b[1;33m,\u001b[0m \u001b[0mscreen\u001b[0m\u001b[1;33m,\u001b[0m \u001b[0mstacktrace\u001b[0m\u001b[1;33m,\u001b[0m \u001b[0malert_text\u001b[0m\u001b[1;33m)\u001b[0m  \u001b[1;31m# type: ignore[call-arg]  # mypy is not smart enough here\u001b[0m\u001b[1;33m\u001b[0m\u001b[1;33m\u001b[0m\u001b[0m\n\u001b[1;32m--> 247\u001b[1;33m         \u001b[1;32mraise\u001b[0m \u001b[0mexception_class\u001b[0m\u001b[1;33m(\u001b[0m\u001b[0mmessage\u001b[0m\u001b[1;33m,\u001b[0m \u001b[0mscreen\u001b[0m\u001b[1;33m,\u001b[0m \u001b[0mstacktrace\u001b[0m\u001b[1;33m)\u001b[0m\u001b[1;33m\u001b[0m\u001b[1;33m\u001b[0m\u001b[0m\n\u001b[0m\u001b[0;32m    248\u001b[0m \u001b[1;33m\u001b[0m\u001b[0m\n\u001b[0;32m    249\u001b[0m     \u001b[1;32mdef\u001b[0m \u001b[0m_value_or_default\u001b[0m\u001b[1;33m(\u001b[0m\u001b[0mself\u001b[0m\u001b[1;33m,\u001b[0m \u001b[0mobj\u001b[0m\u001b[1;33m:\u001b[0m \u001b[0mMapping\u001b[0m\u001b[1;33m[\u001b[0m\u001b[0m_KT\u001b[0m\u001b[1;33m,\u001b[0m \u001b[0m_VT\u001b[0m\u001b[1;33m]\u001b[0m\u001b[1;33m,\u001b[0m \u001b[0mkey\u001b[0m\u001b[1;33m:\u001b[0m \u001b[0m_KT\u001b[0m\u001b[1;33m,\u001b[0m \u001b[0mdefault\u001b[0m\u001b[1;33m:\u001b[0m \u001b[0m_VT\u001b[0m\u001b[1;33m)\u001b[0m \u001b[1;33m->\u001b[0m \u001b[0m_VT\u001b[0m\u001b[1;33m:\u001b[0m\u001b[1;33m\u001b[0m\u001b[1;33m\u001b[0m\u001b[0m\n",
      "\u001b[1;31mWebDriverException\u001b[0m: Message: chrome not reachable\n  (Session info: chrome=99.0.4844.82)\nStacktrace:\nBacktrace:\n\tOrdinal0 [0x00549943+2595139]\n\tOrdinal0 [0x004DC9F1+2148849]\n\tOrdinal0 [0x003D43F0+1065968]\n\tOrdinal0 [0x003C87C2+1017794]\n\tOrdinal0 [0x003C8FF8+1019896]\n\tOrdinal0 [0x003CA892+1026194]\n\tOrdinal0 [0x003C4219+999961]\n\tOrdinal0 [0x003D5860+1071200]\n\tOrdinal0 [0x0042B2D2+1422034]\n\tOrdinal0 [0x0041B806+1357830]\n\tOrdinal0 [0x003F6086+1204358]\n\tOrdinal0 [0x003F6F96+1208214]\n\tGetHandleVerifier [0x006EB232+1658114]\n\tGetHandleVerifier [0x007A312C+2411516]\n\tGetHandleVerifier [0x005DF261+560433]\n\tGetHandleVerifier [0x005DE366+556598]\n\tOrdinal0 [0x004E286B+2173035]\n\tOrdinal0 [0x004E75F8+2192888]\n\tOrdinal0 [0x004E76E5+2193125]\n\tOrdinal0 [0x004F11FC+2232828]\n\tBaseThreadInitThunk [0x766CFA29+25]\n\tRtlGetAppContainerNamedObjectPath [0x77977A7E+286]\n\tRtlGetAppContainerNamedObjectPath [0x77977A4E+238]\n"
     ]
    }
   ],
   "source": [
    "amenties_button = driver.find_element_by_id(dtext)"
   ]
  },
  {
   "cell_type": "code",
   "execution_count": 44,
   "metadata": {},
   "outputs": [
    {
     "ename": "NameError",
     "evalue": "name 'url_2' is not defined",
     "output_type": "error",
     "traceback": [
      "\u001b[1;31m---------------------------------------------------------------------------\u001b[0m",
      "\u001b[1;31mNameError\u001b[0m                                 Traceback (most recent call last)",
      "\u001b[1;32m~\\AppData\\Local\\Temp/ipykernel_20996/1616809316.py\u001b[0m in \u001b[0;36m<module>\u001b[1;34m\u001b[0m\n\u001b[0;32m      1\u001b[0m \u001b[0manenn\u001b[0m \u001b[1;33m=\u001b[0m \u001b[1;33m[\u001b[0m\u001b[1;33m]\u001b[0m\u001b[1;33m\u001b[0m\u001b[1;33m\u001b[0m\u001b[0m\n\u001b[0;32m      2\u001b[0m \u001b[1;31m# url_2 = 'https://www.yelp.co.uk{}'.format(another_url)\u001b[0m\u001b[1;33m\u001b[0m\u001b[1;33m\u001b[0m\u001b[1;33m\u001b[0m\u001b[0m\n\u001b[1;32m----> 3\u001b[1;33m \u001b[0mresponse\u001b[0m \u001b[1;33m=\u001b[0m \u001b[0mrequests\u001b[0m\u001b[1;33m.\u001b[0m\u001b[0mget\u001b[0m\u001b[1;33m(\u001b[0m\u001b[0murl_2\u001b[0m\u001b[1;33m)\u001b[0m\u001b[1;33m\u001b[0m\u001b[1;33m\u001b[0m\u001b[0m\n\u001b[0m\u001b[0;32m      4\u001b[0m \u001b[0mpages\u001b[0m \u001b[1;33m=\u001b[0m \u001b[0mBeautifulSoup\u001b[0m\u001b[1;33m(\u001b[0m\u001b[0mresponse\u001b[0m\u001b[1;33m.\u001b[0m\u001b[0mcontent\u001b[0m\u001b[1;33m,\u001b[0m\u001b[1;34m'html.parser'\u001b[0m\u001b[1;33m)\u001b[0m\u001b[1;33m\u001b[0m\u001b[1;33m\u001b[0m\u001b[0m\n\u001b[0;32m      5\u001b[0m \u001b[0mfeatur\u001b[0m \u001b[1;33m=\u001b[0m \u001b[0msoup\u001b[0m\u001b[1;33m.\u001b[0m\u001b[0mfind_all\u001b[0m\u001b[1;33m(\u001b[0m\u001b[1;34m'div'\u001b[0m\u001b[1;33m,\u001b[0m\u001b[0mclass_\u001b[0m\u001b[1;33m=\u001b[0m \u001b[1;34m'arrange__09f24__LDfbs gutter-2__09f24__CCmUo layout-wrap__09f24__GEBlv layout-2-units__09f24__PsGVW border-color--default__09f24__NPAKY'\u001b[0m\u001b[1;33m)\u001b[0m\u001b[1;33m\u001b[0m\u001b[1;33m\u001b[0m\u001b[0m\n",
      "\u001b[1;31mNameError\u001b[0m: name 'url_2' is not defined"
     ]
    }
   ],
   "source": [
    "\n",
    "anenn = []\n",
    "# url_2 = 'https://www.yelp.co.uk{}'.format(another_url)\n",
    "response = requests.get(url_2)\n",
    "pages = BeautifulSoup(response.content,'html.parser')\n",
    "featur = soup.find_all('div',class_= 'arrange__09f24__LDfbs gutter-2__09f24__CCmUo layout-wrap__09f24__GEBlv layout-2-units__09f24__PsGVW border-color--default__09f24__NPAKY')\n",
    "# features = pages.find_all('section',class_= 'margin-t4__09f24__G0VVf padding-t4__09f24__Y6aGL border--top__09f24__exYYb border-color--default__09f24__NPAKY')\n",
    "for fean in featur:\n",
    "    featn = fean.find_all(\"span\",class_=\"css-1p9ibgf\")\n",
    "    for featsn in featn:\n",
    "        anenn.append(featsn.text)\n"
   ]
  },
  {
   "cell_type": "code",
   "execution_count": 38,
   "metadata": {},
   "outputs": [],
   "source": [
    "rest_amenitiess = []\n",
    "css_class =  soup.select('.css-1p9ibgf')\n",
    "for amenity in css_class:\n",
    "    rest_amenitiess.append(amenity.text)\n"
   ]
  },
  {
   "cell_type": "code",
   "execution_count": 39,
   "metadata": {},
   "outputs": [
    {
     "data": {
      "text/plain": [
       "[]"
      ]
     },
     "execution_count": 39,
     "metadata": {},
     "output_type": "execute_result"
    }
   ],
   "source": [
    "rest_amenitiess"
   ]
  },
  {
   "cell_type": "code",
   "execution_count": null,
   "metadata": {},
   "outputs": [],
   "source": []
  }
 ],
 "metadata": {
  "interpreter": {
   "hash": "b30284c3eb2fe4bedcae5b4d3ef6c8cdca82eb3ff0361126b1f813dcb02e6084"
  },
  "kernelspec": {
   "display_name": "Python 3.8.12 ('strive')",
   "language": "python",
   "name": "python3"
  },
  "language_info": {
   "codemirror_mode": {
    "name": "ipython",
    "version": 3
   },
   "file_extension": ".py",
   "mimetype": "text/x-python",
   "name": "python",
   "nbconvert_exporter": "python",
   "pygments_lexer": "ipython3",
   "version": "3.8.12"
  },
  "orig_nbformat": 4
 },
 "nbformat": 4,
 "nbformat_minor": 2
}
