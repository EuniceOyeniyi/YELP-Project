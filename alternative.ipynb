{
 "cells": [
  {
   "cell_type": "code",
   "execution_count": null,
   "metadata": {},
   "outputs": [],
   "source": [
    "import pandas as pd\n",
    "from datetime import timedelta, date\n",
    "import re\n",
    "import requests\n",
    "from bs4 import BeautifulSoup"
   ]
  },
  {
   "cell_type": "code",
   "execution_count": null,
   "metadata": {},
   "outputs": [],
   "source": [
    "url = requests.get('https://www.yelp.co.uk/search?cflt=burgers&find_loc=Berlin%2C+Germany')\n",
    "print(url)\n",
    "soup = BeautifulSoup(url.content, 'html.parser')"
   ]
  },
  {
   "cell_type": "code",
   "execution_count": null,
   "metadata": {},
   "outputs": [],
   "source": [
    "resturant_names =[]\n",
    "ratings = []\n",
    "number_of_rating =[]\n",
    "price_level = []\n",
    "neighbourhood = []"
   ]
  },
  {
   "cell_type": "code",
   "execution_count": null,
   "metadata": {},
   "outputs": [],
   "source": [
    "htags = soup.find_all(\"h3\",class_=\"css-kagwww\")\n",
    "for tags in htags:\n",
    "    resturant_names.append(tags.text)"
   ]
  }
 ],
 "metadata": {
  "language_info": {
   "name": "python"
  },
  "orig_nbformat": 4
 },
 "nbformat": 4,
 "nbformat_minor": 2
}
